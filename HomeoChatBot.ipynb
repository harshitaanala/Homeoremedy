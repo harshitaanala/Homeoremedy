{
  "nbformat": 4,
  "nbformat_minor": 0,
  "metadata": {
    "colab": {
      "provenance": []
    },
    "kernelspec": {
      "name": "python3",
      "display_name": "Python 3"
    },
    "language_info": {
      "name": "python"
    }
  },
  "cells": [
    {
      "cell_type": "code",
      "source": [
        "import warnings\n",
        "warnings.filterwarnings('ignore')"
      ],
      "metadata": {
        "id": "Ui8OxkAPiOjM"
      },
      "execution_count": 19,
      "outputs": []
    },
    {
      "cell_type": "code",
      "source": [
        "import pandas as pd\n",
        "\n",
        "# Load the dataset\n",
        "medicines_df = pd.read_csv(\"/content/hello (1).csv\")\n",
        "\n",
        "# Define a function to suggest medicines based on symptoms\n",
        "def suggest_medicines(symptoms):\n",
        "    # Filter the dataset for medicines that treat the specified symptoms\n",
        "    matching_medicines = medicines_df[medicines_df['English'].apply(lambda x: all([symptom in x.split(\", \") for symptom in symptoms]))]\n",
        "    \n",
        "    # Sort the matching medicines by relevance (based on the number of matching symptoms)\n",
        "    matching_medicines['English'] = matching_medicines['English'].apply(lambda x: len(set(symptoms) & set(x.split(\", \"))))\n",
        "    matching_medicines = matching_medicines.sort_values(by='English', ascending=False)\n",
        "    \n",
        "    # Return the top 5 matching medicines\n",
        "    return matching_medicines.head(5)['Remedy_1'].tolist()\n",
        "\n",
        "# Define a function to handle user input and output the chatbot's response\n",
        "def chat():\n",
        "    print(\"Hi, I'm a medicine suggesting chatbot. What symptoms are you experiencing?\")\n",
        "    symptoms = input().split(\", \")\n",
        "    symptoms = [x.upper() for x in symptoms]\n",
        "    medicines = suggest_medicines(symptoms)\n",
        "    print(\"Based on your symptoms, I suggest the following medicines:\")\n",
        "    for medicine in medicines:\n",
        "        print(medicine)\n",
        "\n",
        "# Call the chat function to start the chatbot\n",
        "chat()\n"
      ],
      "metadata": {
        "id": "zymUS3Z37Odk",
        "colab": {
          "base_uri": "https://localhost:8080/"
        },
        "outputId": "af2844dd-ba53-45ed-8f4e-a7e8c89f7f25"
      },
      "execution_count": 22,
      "outputs": [
        {
          "output_type": "stream",
          "name": "stdout",
          "text": [
            "Hi, I'm a medicine suggesting chatbot. What symptoms are you experiencing?\n",
            "cough\n",
            "Based on your symptoms, I suggest the following medicines:\n",
            "CALCARIA FLOURIDE 3X CALCAREA PHOSPHORICA 3X OR 12X FERRUM PHOSPHORICUM 12X KALI MURIATICUM 3X KALI PHOSPHORICUM 3X KALI SULPHURICUM 3X MAGNESIA PHOSPHORICA 3X NATRUM MURIATICUM 3X NATRUM PHOSPHORICUM 3X SILICEA 12X MIX AND TAKE AT A GAP OF 3-3 HOURSIF REMEDY FAILS TRY REMEDY 2 \n"
          ]
        }
      ]
    }
  ]
}