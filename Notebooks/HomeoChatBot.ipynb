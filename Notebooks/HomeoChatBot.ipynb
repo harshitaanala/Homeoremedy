{
  "cells": [
    {
      "cell_type": "code",
      "execution_count": 6,
      "metadata": {
        "id": "Ui8OxkAPiOjM"
      },
      "outputs": [],
      "source": [
        "import warnings\n",
        "warnings.filterwarnings('ignore')"
      ]
    },
    {
      "cell_type": "code",
      "execution_count": 7,
      "metadata": {
        "colab": {
          "base_uri": "https://localhost:8080/"
        },
        "id": "zymUS3Z37Odk",
        "outputId": "af2844dd-ba53-45ed-8f4e-a7e8c89f7f25"
      },
      "outputs": [
        {
          "name": "stdout",
          "output_type": "stream",
          "text": [
            "Hi, I'm a medicine suggesting chatbot. What symptoms are you experiencing?\n",
            "Based on your symptoms, I suggest the following medicines:\n",
            "MAGNESIA PHOSPHORICA 3X KALI PHOSPHORICUM 3X MIX IN WARM WATER IF REMEDY FAILS TRY REMEDY 2\n"
          ]
        }
      ],
      "source": [
        "import pandas as pd\n",
        "medicines_df = pd.read_csv(\"../Datasets/homeo.csv\")\n",
        "\n",
        "def suggest_medicines(symptoms):\n",
        "    matching_medicines = medicines_df[medicines_df['English'].apply(lambda x: all([symptom in x.split(\", \") for symptom in symptoms]))]\n",
        "    matching_medicines['English'] = matching_medicines['English'].apply(lambda x: len(set(symptoms) & set(x.split(\", \"))))\n",
        "    matching_medicines = matching_medicines.sort_values(by='English', ascending=False)\n",
        "    return matching_medicines.head(5)['Remedy_1'].tolist()\n",
        "\n",
        "def chat():\n",
        "    print(\"Hi, I'm a medicine suggesting chatbot. What symptoms are you experiencing?\")\n",
        "    symptoms = input().split(\", \")\n",
        "    symptoms = [x.upper() for x in symptoms]\n",
        "    medicines = suggest_medicines(symptoms)\n",
        "    print(\"Based on your symptoms, I suggest the following medicines:\")\n",
        "    for medicine in medicines:\n",
        "        print(medicine)\n",
        "\n",
        "chat()\n"
      ]
    },
    {
      "cell_type": "code",
      "execution_count": null,
      "metadata": {},
      "outputs": [],
      "source": []
    }
  ],
  "metadata": {
    "colab": {
      "provenance": []
    },
    "kernelspec": {
      "display_name": "Python 3",
      "name": "python3"
    },
    "language_info": {
      "codemirror_mode": {
        "name": "ipython",
        "version": 3
      },
      "file_extension": ".py",
      "mimetype": "text/x-python",
      "name": "python",
      "nbconvert_exporter": "python",
      "pygments_lexer": "ipython3",
      "version": "3.9.5"
    }
  },
  "nbformat": 4,
  "nbformat_minor": 0
}
