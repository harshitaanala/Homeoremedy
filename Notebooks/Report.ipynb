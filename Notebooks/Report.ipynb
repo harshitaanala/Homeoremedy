{
  "cells": [
    {
      "cell_type": "code",
      "execution_count": 4,
      "metadata": {
        "colab": {
          "base_uri": "https://localhost:8080/"
        },
        "id": "sOgMImwCe7xL",
        "outputId": "192f4e91-6c2f-4e42-8959-73e45bb2e55f"
      },
      "outputs": [
        {
          "name": "stdout",
          "output_type": "stream",
          "text": [
            "Looking in indexes: https://pypi.org/simple, https://us-python.pkg.dev/colab-wheels/public/simple/\n",
            "Collecting pdfkit\n",
            "  Downloading pdfkit-1.0.0-py3-none-any.whl (12 kB)\n",
            "Installing collected packages: pdfkit\n",
            "Successfully installed pdfkit-1.0.0\n"
          ]
        }
      ],
      "source": [
        "!pip install pdfkit"
      ]
    },
    {
      "cell_type": "code",
      "execution_count": null,
      "metadata": {
        "id": "cZNaRHTXY6PG"
      },
      "outputs": [],
      "source": [
        "import csv\n",
        "import pdfkit\n",
        "import warnings\n",
        "warnings.filterwarnings('ignore')\n",
        "import datetime\n",
        "\n",
        "# Prompt user for input\n",
        "name = input('Enter your name: ')\n",
        "age = int(input('Enter your age: '))\n",
        "gender = input('Enter your gender: ')\n",
        "symptoms = input('Enter your symptoms: ')\n",
        "dayss = input('Enter number of days you have been facing the issue: ')\n",
        "\n",
        "current_time = datetime.datetime.now().strftime(\"%Y-%m-%d %H:%M:%S\")\n",
        "# Create report HTML file\n",
        "report_html = open('report.html', 'w')\n",
        "report_title = 'Medical Report of - {}'.format(name)\n",
        "# Write report header and user input to HTML file\n",
        "report_html.write('<html><head><title>{}</title></head><body>'.format(report_title))\n",
        "report_html.write('<h1>{}</h1>'.format(report_title))\n",
        "report_html.write('<p><strong>Report Generated on:</strong> {}</p>'.format(current_time))\n",
        "report_html.write('<p><strong>Name:</strong> {}</p>'.format(name))\n",
        "report_html.write('<p><strong>Age:</strong> {}</p>'.format(age))\n",
        "report_html.write('<p><strong>Gender:</strong> {}</p>'.format(gender))\n",
        "report_html.write('<p><strong>Symptoms:</strong> {}</p>'.format(symptoms))\n",
        "report_html.write('<p><strong>Number of Days you have been facing the issue:</strong> {}</p>'.format(dayss))\n",
        "report_html.write('</body></html>')\n",
        "\n",
        "# Close report HTML file\n",
        "report_html.close()"
      ]
    }
  ],
  "metadata": {
    "colab": {
      "provenance": []
    },
    "kernelspec": {
      "display_name": "Python 3",
      "name": "python3"
    },
    "language_info": {
      "name": "python",
      "version": "3.9.5"
    }
  },
  "nbformat": 4,
  "nbformat_minor": 0
}
