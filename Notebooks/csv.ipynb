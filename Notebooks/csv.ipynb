{
  "cells": [
    {
      "cell_type": "code",
      "execution_count": 2,
      "metadata": {
        "colab": {
          "base_uri": "https://localhost:8080/"
        },
        "id": "xOnIb6wXo0B3",
        "outputId": "4acc7aa2-1a37-4372-a7bf-c64076df1850"
      },
      "outputs": [
        {
          "name": "stdout",
          "output_type": "stream",
          "text": [
            "Hi, I'm a medicine suggesting chatbot. How can I assist you today?\n",
            "Based on your symptom, I suggest taking: Ferrum Phos 12X , Kali Mur 3X , Nat Sulf 3X Mix And Take , Repeat After 2 Hrs If After 14 Hrs No Effect Try Remedy 2 , Calc Flor 3X , Calc Phos 3X Or 12X , Ferum Phos 12X , Kali Mur 3X , Kali Phos 3X , Nat Sulf 3X , Sil 12X Mix And Repeat Every 2 Hrs Till 24 Hrs If This Also Fails Try Remedy 3 , Calc Sulf 3X , Nat Mur 3X Mix And Repeat After Every Two Hours\n"
          ]
        }
      ],
      "source": [
        "import csv\n",
        "# load the symptoms and remedies from the CSV file\n",
        "symptoms = []\n",
        "remedies = []\n",
        "with open('HomeoCSV.csv', 'r') as file:\n",
        "    reader = csv.reader(file)\n",
        "    for row in reader:\n",
        "        symptoms.append(row[5])\n",
        "        remedies.append(row[7])\n",
        "\n",
        "# define a function to suggest the remedy based on the symptoms\n",
        "def suggest_remedy(symptom):\n",
        "    for i in range(len(symptoms)):\n",
        "        if symptom.lower() in symptoms[i].lower():\n",
        "            return remedies[i]\n",
        "    return \"Sorry, I'm not sure what remedy to suggest for that symptom.\"\n",
        "\n",
        "# start the chatbot\n",
        "print(\"Hi, I'm a medicine suggesting chatbot. How can I assist you today?\")\n",
        "while True:\n",
        "    symptom = input(\"Please enter your symptoms/illness : \")\n",
        "    remedy = suggest_remedy(symptom)\n",
        "    print(\"Based on your symptom, I suggest taking:\", remedy)\n",
        "    break\n"
      ]
    },
    {
      "cell_type": "code",
      "execution_count": null,
      "metadata": {},
      "outputs": [],
      "source": []
    }
  ],
  "metadata": {
    "colab": {
      "provenance": []
    },
    "kernelspec": {
      "display_name": "Python 3",
      "name": "python3"
    },
    "language_info": {
      "codemirror_mode": {
        "name": "ipython",
        "version": 3
      },
      "file_extension": ".py",
      "mimetype": "text/x-python",
      "name": "python",
      "nbconvert_exporter": "python",
      "pygments_lexer": "ipython3",
      "version": "3.9.5"
    }
  },
  "nbformat": 4,
  "nbformat_minor": 0
}
